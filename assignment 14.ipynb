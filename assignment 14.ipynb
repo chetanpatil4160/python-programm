{
 "cells": [
  {
   "cell_type": "markdown",
   "id": "739afb54",
   "metadata": {},
   "source": [
    " ### Question1 \n",
    "\n",
    "Create a function that takes three arguments a, b, c and returns the sum of the\n",
    "numbers that are evenly divided by c from the range a, b inclusive."
   ]
  },
  {
   "cell_type": "code",
   "execution_count": 1,
   "id": "bb81a81e",
   "metadata": {},
   "outputs": [],
   "source": [
    "def evenly_divisible(a,b,c):\n",
    "    sum_e = 0 \n",
    "    for i in range(a,b+1):\n",
    "        if i%c == 0:\n",
    "            sum_e =sum_e + i\n",
    "        else:\n",
    "            continue\n",
    "    return sum_e"
   ]
  },
  {
   "cell_type": "code",
   "execution_count": 2,
   "id": "24a7fa40",
   "metadata": {},
   "outputs": [
    {
     "data": {
      "text/plain": [
       "0"
      ]
     },
     "execution_count": 2,
     "metadata": {},
     "output_type": "execute_result"
    }
   ],
   "source": [
    "evenly_divisible(1,10,20)"
   ]
  },
  {
   "cell_type": "code",
   "execution_count": 3,
   "id": "62b442ee",
   "metadata": {},
   "outputs": [
    {
     "data": {
      "text/plain": [
       "30"
      ]
     },
     "execution_count": 3,
     "metadata": {},
     "output_type": "execute_result"
    }
   ],
   "source": [
    "evenly_divisible(1,10,2)"
   ]
  },
  {
   "cell_type": "code",
   "execution_count": 4,
   "id": "dbc2abe7",
   "metadata": {},
   "outputs": [
    {
     "data": {
      "text/plain": [
       "18"
      ]
     },
     "execution_count": 4,
     "metadata": {},
     "output_type": "execute_result"
    }
   ],
   "source": [
    "evenly_divisible(1,10,3)"
   ]
  },
  {
   "cell_type": "markdown",
   "id": "daf1f8a9",
   "metadata": {},
   "source": [
    "### Question2\n",
    "Create a function that returns True if a given inequality expression is correct and\n",
    "False otherwise."
   ]
  },
  {
   "cell_type": "code",
   "execution_count": 62,
   "id": "9a276b99",
   "metadata": {},
   "outputs": [],
   "source": [
    "def correct_sign(a):\n",
    "    c=eval(a)\n",
    "    return c"
   ]
  },
  {
   "cell_type": "code",
   "execution_count": 64,
   "id": "1bb199c4",
   "metadata": {},
   "outputs": [
    {
     "data": {
      "text/plain": [
       "True"
      ]
     },
     "execution_count": 64,
     "metadata": {},
     "output_type": "execute_result"
    }
   ],
   "source": [
    "correct_sign('3<7<11')"
   ]
  },
  {
   "cell_type": "code",
   "execution_count": 65,
   "id": "7a9013df",
   "metadata": {},
   "outputs": [
    {
     "data": {
      "text/plain": [
       "False"
      ]
     },
     "execution_count": 65,
     "metadata": {},
     "output_type": "execute_result"
    }
   ],
   "source": [
    "correct_sign('13>44>33>1')"
   ]
  },
  {
   "cell_type": "code",
   "execution_count": 66,
   "id": "b6c87189",
   "metadata": {},
   "outputs": [
    {
     "data": {
      "text/plain": [
       "True"
      ]
     },
     "execution_count": 66,
     "metadata": {},
     "output_type": "execute_result"
    }
   ],
   "source": [
    "correct_sign('1<2<6<9>3')"
   ]
  },
  {
   "cell_type": "markdown",
   "id": "8fa84563",
   "metadata": {},
   "source": [
    "### Question3\n",
    "Create a function that replaces all the vowels in a string with a specified character."
   ]
  },
  {
   "cell_type": "code",
   "execution_count": 72,
   "id": "9b821698",
   "metadata": {},
   "outputs": [],
   "source": [
    "c=['a','e','i','o','u']"
   ]
  },
  {
   "cell_type": "code",
   "execution_count": 79,
   "id": "9c6033bc",
   "metadata": {},
   "outputs": [],
   "source": [
    "def replace_vowels(a,b):\n",
    "    c=['a','e','i','o','u']\n",
    "    for i in c:\n",
    "        if i in a:\n",
    "            a=a.replace(i,b)\n",
    "    return a"
   ]
  },
  {
   "cell_type": "code",
   "execution_count": 80,
   "id": "bcbcc986",
   "metadata": {},
   "outputs": [
    {
     "data": {
      "text/plain": [
       "'th# ##rdv#rk'"
      ]
     },
     "execution_count": 80,
     "metadata": {},
     "output_type": "execute_result"
    }
   ],
   "source": [
    "replace_vowels('the aardvark','#')"
   ]
  },
  {
   "cell_type": "code",
   "execution_count": 81,
   "id": "e4fc0ee7",
   "metadata": {},
   "outputs": [
    {
     "data": {
      "text/plain": [
       "'m?nn?? m??s?'"
      ]
     },
     "execution_count": 81,
     "metadata": {},
     "output_type": "execute_result"
    }
   ],
   "source": [
    "replace_vowels('minnie mouse','?')"
   ]
  },
  {
   "cell_type": "code",
   "execution_count": 82,
   "id": "baa53465",
   "metadata": {},
   "outputs": [
    {
     "data": {
      "text/plain": [
       "'sh*k*sp**r*'"
      ]
     },
     "execution_count": 82,
     "metadata": {},
     "output_type": "execute_result"
    }
   ],
   "source": [
    "replace_vowels('shakespeare','*')"
   ]
  },
  {
   "cell_type": "markdown",
   "id": "5b96dce9",
   "metadata": {},
   "source": [
    "### Question4. \n",
    "Write a function that calculates the factorial of a number recursively."
   ]
  },
  {
   "cell_type": "code",
   "execution_count": 91,
   "id": "03f23ade",
   "metadata": {},
   "outputs": [],
   "source": [
    "def factorial(a):\n",
    "    fact = 1\n",
    "    for i in range(a,0,-1):\n",
    "        fact = fact * i\n",
    "    return fact"
   ]
  },
  {
   "cell_type": "code",
   "execution_count": 92,
   "id": "8d6b6ef3",
   "metadata": {},
   "outputs": [
    {
     "data": {
      "text/plain": [
       "120"
      ]
     },
     "execution_count": 92,
     "metadata": {},
     "output_type": "execute_result"
    }
   ],
   "source": [
    "factorial(5)"
   ]
  },
  {
   "cell_type": "code",
   "execution_count": 93,
   "id": "56c949a4",
   "metadata": {},
   "outputs": [
    {
     "data": {
      "text/plain": [
       "6"
      ]
     },
     "execution_count": 93,
     "metadata": {},
     "output_type": "execute_result"
    }
   ],
   "source": [
    "factorial(3)"
   ]
  },
  {
   "cell_type": "code",
   "execution_count": 94,
   "id": "a832f333",
   "metadata": {},
   "outputs": [
    {
     "data": {
      "text/plain": [
       "1"
      ]
     },
     "execution_count": 94,
     "metadata": {},
     "output_type": "execute_result"
    }
   ],
   "source": [
    "factorial(1)"
   ]
  },
  {
   "cell_type": "code",
   "execution_count": 95,
   "id": "abc92a5a",
   "metadata": {},
   "outputs": [
    {
     "data": {
      "text/plain": [
       "1"
      ]
     },
     "execution_count": 95,
     "metadata": {},
     "output_type": "execute_result"
    }
   ],
   "source": [
    "factorial(0)"
   ]
  },
  {
   "cell_type": "markdown",
   "id": "b3c07f61",
   "metadata": {},
   "source": [
    "### Question 5\n",
    "Hamming distance is the number of characters that differ between two strings."
   ]
  },
  {
   "cell_type": "code",
   "execution_count": 109,
   "id": "01caa2b6",
   "metadata": {},
   "outputs": [],
   "source": [
    "def hamming_distance(a,b):\n",
    "    d=0\n",
    "    for i in range(len(a)):\n",
    "        if a[i] != b[i]:\n",
    "            d=d+1\n",
    "    return d"
   ]
  },
  {
   "cell_type": "code",
   "execution_count": 110,
   "id": "5e81b28b",
   "metadata": {},
   "outputs": [
    {
     "data": {
      "text/plain": [
       "5"
      ]
     },
     "execution_count": 110,
     "metadata": {},
     "output_type": "execute_result"
    }
   ],
   "source": [
    "hamming_distance('abcde','bcdef')"
   ]
  },
  {
   "cell_type": "code",
   "execution_count": 111,
   "id": "2d15bf0b",
   "metadata": {},
   "outputs": [
    {
     "data": {
      "text/plain": [
       "0"
      ]
     },
     "execution_count": 111,
     "metadata": {},
     "output_type": "execute_result"
    }
   ],
   "source": [
    "hamming_distance('abcde','abcde')"
   ]
  },
  {
   "cell_type": "code",
   "execution_count": 112,
   "id": "6a033d81",
   "metadata": {},
   "outputs": [
    {
     "data": {
      "text/plain": [
       "1"
      ]
     },
     "execution_count": 112,
     "metadata": {},
     "output_type": "execute_result"
    }
   ],
   "source": [
    "hamming_distance('strong','strung')"
   ]
  }
 ],
 "metadata": {
  "kernelspec": {
   "display_name": "Python 3 (ipykernel)",
   "language": "python",
   "name": "python3"
  },
  "language_info": {
   "codemirror_mode": {
    "name": "ipython",
    "version": 3
   },
   "file_extension": ".py",
   "mimetype": "text/x-python",
   "name": "python",
   "nbconvert_exporter": "python",
   "pygments_lexer": "ipython3",
   "version": "3.9.12"
  }
 },
 "nbformat": 4,
 "nbformat_minor": 5
}
