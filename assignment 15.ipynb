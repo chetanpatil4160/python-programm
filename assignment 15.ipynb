{
 "cells": [
  {
   "cell_type": "markdown",
   "id": "65ec14de",
   "metadata": {},
   "source": [
    "Create a function that takes a list of non-negative integers and strings and return a new list\n",
    "without the strings."
   ]
  },
  {
   "cell_type": "code",
   "execution_count": 12,
   "id": "b3e5c661",
   "metadata": {},
   "outputs": [],
   "source": [
    "def filter_list(a):\n",
    "    '''this function take input as list'''\n",
    "    list_int = []\n",
    "    for i in a:\n",
    "            if type(i) == int:\n",
    "                list_int.append(i)\n",
    "            else:\n",
    "                continue\n",
    "    return list_int"
   ]
  },
  {
   "cell_type": "code",
   "execution_count": 13,
   "id": "b50edd2f",
   "metadata": {},
   "outputs": [
    {
     "data": {
      "text/plain": [
       "[1, 2]"
      ]
     },
     "execution_count": 13,
     "metadata": {},
     "output_type": "execute_result"
    }
   ],
   "source": [
    "filter_list([1,2,'a','b'])"
   ]
  },
  {
   "cell_type": "code",
   "execution_count": 14,
   "id": "ac2f53c7",
   "metadata": {},
   "outputs": [
    {
     "data": {
      "text/plain": [
       "[1, 0, 15]"
      ]
     },
     "execution_count": 14,
     "metadata": {},
     "output_type": "execute_result"
    }
   ],
   "source": [
    "filter_list([1,'a','b',0,15])"
   ]
  },
  {
   "cell_type": "code",
   "execution_count": 15,
   "id": "dcaea2af",
   "metadata": {},
   "outputs": [
    {
     "data": {
      "text/plain": [
       "[1, 2, 123]"
      ]
     },
     "execution_count": 15,
     "metadata": {},
     "output_type": "execute_result"
    }
   ],
   "source": [
    "filter_list([1,2,'aaasf','1','123',123])"
   ]
  },
  {
   "cell_type": "markdown",
   "id": "17b30a5a",
   "metadata": {},
   "source": [
    "The Reverser takes a string as input and returns that string in reverse order, with the\n",
    "opposite case."
   ]
  },
  {
   "cell_type": "code",
   "execution_count": 16,
   "id": "c167aebd",
   "metadata": {},
   "outputs": [],
   "source": [
    "def reverse():\n",
    "    a = input('Enter your string : ')\n",
    "    b = a[::-1]\n",
    "    c = b.swapcase()\n",
    "    return c"
   ]
  },
  {
   "cell_type": "code",
   "execution_count": 17,
   "id": "8d0108b7",
   "metadata": {},
   "outputs": [
    {
     "name": "stdout",
     "output_type": "stream",
     "text": [
      "Enter your string : Hellow World\n"
     ]
    },
    {
     "data": {
      "text/plain": [
       "'DLROw WOLLEh'"
      ]
     },
     "execution_count": 17,
     "metadata": {},
     "output_type": "execute_result"
    }
   ],
   "source": [
    "reverse()"
   ]
  },
  {
   "cell_type": "code",
   "execution_count": 18,
   "id": "13659365",
   "metadata": {},
   "outputs": [
    {
     "name": "stdout",
     "output_type": "stream",
     "text": [
      "Enter your string : ReVeRsE\n"
     ]
    },
    {
     "data": {
      "text/plain": [
       "'eSrEvEr'"
      ]
     },
     "execution_count": 18,
     "metadata": {},
     "output_type": "execute_result"
    }
   ],
   "source": [
    "reverse()"
   ]
  },
  {
   "cell_type": "code",
   "execution_count": 19,
   "id": "ab77f002",
   "metadata": {},
   "outputs": [
    {
     "name": "stdout",
     "output_type": "stream",
     "text": [
      "Enter your string : Radar\n"
     ]
    },
    {
     "data": {
      "text/plain": [
       "'RADAr'"
      ]
     },
     "execution_count": 19,
     "metadata": {},
     "output_type": "execute_result"
    }
   ],
   "source": [
    "reverse()"
   ]
  },
  {
   "cell_type": "markdown",
   "id": "2ce2db31",
   "metadata": {},
   "source": [
    "You can assign variables from lists like this:\n",
    "lst = [1, 2, 3, 4, 5, 6]\n",
    "first = lst[0]\n",
    "middle = lst[1:-1]\n",
    "last = lst[-1]"
   ]
  },
  {
   "cell_type": "code",
   "execution_count": 30,
   "id": "fbe4cf0f",
   "metadata": {},
   "outputs": [],
   "source": [
    "head, *middle, tail =[1, 2, 3, 4, 5, 6]\n",
    "First = head \n",
    "middle = middle\n",
    "last = tail"
   ]
  },
  {
   "cell_type": "code",
   "execution_count": 31,
   "id": "f83d43e3",
   "metadata": {},
   "outputs": [
    {
     "name": "stdout",
     "output_type": "stream",
     "text": [
      "1\n",
      "[2, 3, 4, 5]\n",
      "6\n"
     ]
    }
   ],
   "source": [
    "print(First)\n",
    "print(middle)\n",
    "print(last)"
   ]
  },
  {
   "cell_type": "code",
   "execution_count": 33,
   "id": "59f6f7fb",
   "metadata": {},
   "outputs": [
    {
     "name": "stdout",
     "output_type": "stream",
     "text": [
      "Enter a number: 5\n",
      "The factorial of 5 is 120\n"
     ]
    }
   ],
   "source": [
    "def recur_factorial(n):\n",
    "    if n == 1:  \n",
    "        return n  \n",
    "    else:  \n",
    "        return n*recur_factorial(n-1)\n",
    "    \n",
    "num = int(input(\"Enter a number: \"))  \n",
    "# check is the number is negative  \n",
    "if num < 0:  \n",
    "    print(\"Sorry, factorial does not exist for negative numbers\")  \n",
    "elif num == 0:  \n",
    "    print(\"The factorial of 0 is 1\")  \n",
    "else:  \n",
    "    print(\"The factorial of\",num,\"is\",recur_factorial(num))  "
   ]
  },
  {
   "cell_type": "code",
   "execution_count": 34,
   "id": "d030ff4b",
   "metadata": {},
   "outputs": [
    {
     "name": "stdout",
     "output_type": "stream",
     "text": [
      "Enter a number: 3\n",
      "The factorial of 3 is 6\n"
     ]
    }
   ],
   "source": [
    "num = int(input(\"Enter a number: \"))  \n",
    "# check is the number is negative  \n",
    "if num < 0:  \n",
    "    print(\"Sorry, factorial does not exist for negative numbers\")  \n",
    "elif num == 0:  \n",
    "    print(\"The factorial of 0 is 1\")  \n",
    "else:  \n",
    "    print(\"The factorial of\",num,\"is\",recur_factorial(num))  "
   ]
  },
  {
   "cell_type": "code",
   "execution_count": 35,
   "id": "8b8561fd",
   "metadata": {},
   "outputs": [
    {
     "name": "stdout",
     "output_type": "stream",
     "text": [
      "Enter a number: 1\n",
      "The factorial of 1 is 1\n"
     ]
    }
   ],
   "source": [
    "num = int(input(\"Enter a number: \"))  \n",
    "# check is the number is negative  \n",
    "if num < 0:  \n",
    "    print(\"Sorry, factorial does not exist for negative numbers\")  \n",
    "elif num == 0:  \n",
    "    print(\"The factorial of 0 is 1\")  \n",
    "else:  \n",
    "    print(\"The factorial of\",num,\"is\",recur_factorial(num))  "
   ]
  },
  {
   "cell_type": "code",
   "execution_count": 37,
   "id": "8aac98ac",
   "metadata": {},
   "outputs": [],
   "source": [
    "a=[1, 3, 2, 4, 4, 1]\n",
    "b=1"
   ]
  },
  {
   "cell_type": "code",
   "execution_count": 46,
   "id": "d113c335",
   "metadata": {},
   "outputs": [],
   "source": [
    "def Move_to_end(a,b): \n",
    "    c=[]\n",
    "    d=[]\n",
    "    for i in a:\n",
    "        if i == b:\n",
    "            d.append(i)\n",
    "        else:\n",
    "            c.append(i)\n",
    "    c.extend(d)\n",
    "    return c"
   ]
  },
  {
   "cell_type": "code",
   "execution_count": 49,
   "id": "189c43c2",
   "metadata": {},
   "outputs": [
    {
     "data": {
      "text/plain": [
       "[3, 2, 4, 4, 1, 1]"
      ]
     },
     "execution_count": 49,
     "metadata": {},
     "output_type": "execute_result"
    }
   ],
   "source": [
    "Move_to_end([1, 3, 2, 4, 4, 1],1)"
   ]
  },
  {
   "cell_type": "code",
   "execution_count": 50,
   "id": "142a9e3a",
   "metadata": {},
   "outputs": [
    {
     "data": {
      "text/plain": [
       "[7, 8, 1, 2, 3, 4, 9]"
      ]
     },
     "execution_count": 50,
     "metadata": {},
     "output_type": "execute_result"
    }
   ],
   "source": [
    "Move_to_end([7,8,9,1,2,3,4],9)"
   ]
  },
  {
   "cell_type": "code",
   "execution_count": 51,
   "id": "6a2cba06",
   "metadata": {},
   "outputs": [
    {
     "data": {
      "text/plain": [
       "['b', 'a', 'a', 'a']"
      ]
     },
     "execution_count": 51,
     "metadata": {},
     "output_type": "execute_result"
    }
   ],
   "source": [
    "Move_to_end(['a','a','a','b'],'a')"
   ]
  },
  {
   "cell_type": "code",
   "execution_count": null,
   "id": "05df2cad",
   "metadata": {},
   "outputs": [],
   "source": []
  }
 ],
 "metadata": {
  "kernelspec": {
   "display_name": "Python 3 (ipykernel)",
   "language": "python",
   "name": "python3"
  },
  "language_info": {
   "codemirror_mode": {
    "name": "ipython",
    "version": 3
   },
   "file_extension": ".py",
   "mimetype": "text/x-python",
   "name": "python",
   "nbconvert_exporter": "python",
   "pygments_lexer": "ipython3",
   "version": "3.9.12"
  }
 },
 "nbformat": 4,
 "nbformat_minor": 5
}
